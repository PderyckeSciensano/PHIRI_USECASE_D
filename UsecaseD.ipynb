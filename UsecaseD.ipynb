{
 "cells": [
  {
   "cell_type": "markdown",
   "metadata": {},
   "source": [
    "# PHIRI Use case A: Vulnerable populations, inequalities and risk factors with direct and indirect impact on COVID-19 outcomes\n",
    "\n",
    "***\n",
    "### Jupyter open Notebook produced by **[PHIRI.eu](http://phiri.eu)**. Resources are available at Zenodo **[DOI](https://doi.org/10.5281/zenodo.6377096)**.\n",
    "***\n",
    "\n",
    "Research question: Has the COVID19 pandemic changed existing patterns of non-COVID-19 health care utilisation and mortality for vulnerable populations within and between countries? This is based around answering the indirect effects of the pandemic on population health.\n",
    "\n",
    "Cohort description: Any patients 18 years old or older, with a hospital episode with a main diagnosis of any of the conditions included in the cohort definition (i.e. heart attack, stroke, hip or knee replacements, or severe trauma) from 2019-01-01 until today.\n",
    "\n",
    "This Jupyter notebook is licensed under the **[MIT License](https://github.com/PderyckeSciensano/PHIRI/blob/main/LICENSE)**. "
   ]
  },
  {
   "cell_type": "markdown",
   "metadata": {},
   "source": [
    "## Use Case A on Vulnerable Populations ##"
   ]
  },
  {
   "cell_type": "raw",
   "metadata": {},
   "source": [
    "Wide variations in COVID-19 infection and outcomes exist across Europe and within countries. Use Case A explores the indirect impact of the pandemic on health care utilisation in three tracer groups of conditions - heart attack and stroke, hip and knee replacement and severe trauma. By incorporating deprivation measures, further comparisons examining differences across socioeconomic status can be investigated.\n",
    "\n"
   ]
  },
  {
   "cell_type": "markdown",
   "metadata": {},
   "source": [
    "### LOCAL ANALYSES ###"
   ]
  },
  {
   "cell_type": "raw",
   "metadata": {},
   "source": [
    "This analyses corresponds with the local part of the analysis (country-specific).\n",
    "Please, provide feedback on your outputs, both data quality analysis (EDA), HTML report and aggregated output to the Use Case A leaders to complete the overall analyses."
   ]
  },
  {
   "cell_type": "code",
   "execution_count": null,
   "metadata": {},
   "outputs": [],
   "source": [
    "#update.packages(ask = FALSE, checkBuilt = TRUE)\n",
    "options(warn=-1)\n",
    "\n",
    "## First specify the packages of interest\n",
    "packages = c(\"tidyverse\",\"readr\",\"ggplot2\",\"dplyr\",\"lubridate\",\"plotly\",\"DT\",\"janitor\")\n",
    "\n",
    "## Now load or install&load all\n",
    "package.check <- lapply(\n",
    "  packages,\n",
    "  FUN = function(x) {\n",
    "    if (!require(x, character.only = TRUE)) {\n",
    "      install.packages(x, dependencies = TRUE)\n",
    "      library(x, character.only = TRUE)\n",
    "    }\n",
    "  }\n",
    ")"
   ]
  },
  {
   "cell_type": "code",
   "execution_count": null,
   "metadata": {},
   "outputs": [],
   "source": [
    "library(tidyverse)\n",
    "library(readr)\n",
    "library(ggplot2)\n",
    "library(dplyr)\n",
    "library(lubridate)\n",
    "library(plotly)\n",
    "library(DT)\n",
    "library(janitor)"
   ]
  },
  {
   "cell_type": "code",
   "execution_count": null,
   "metadata": {},
   "outputs": [],
   "source": [
    "age_max <- 105\n",
    "age_diff <- 5\n",
    "# years to plot (1 colored line per year)\n",
    "year_from <- 2017\n",
    "year_to <- 2020\n",
    "\n",
    "date_from <- as.Date(paste0(year_from,'-01-01'))\n",
    "date_to <- as.Date(paste0(year_to,'-12-31'))\n",
    "# today\n",
    "# today_y <- as.numeric(format(Sys.Date(), \"%Y\"))\n",
    "# today_m <- as.numeric(format(Sys.Date(), \"%m\"))\n",
    "# today_d <- as.numeric(format(Sys.Date(), \"%d\"))\n",
    "# today_fractionalMonth <- today_m + today_d/as.numeric( as.Date(paste(today_y,today_m+1,\"01\", sep=\"-\")) - as.Date(paste(today_y,today_m,\"01\", sep=\"-\")) )\n",
    "\n",
    "print(date_from)"
   ]
  },
  {
   "cell_type": "code",
   "execution_count": null,
   "metadata": {},
   "outputs": [],
   "source": [
    "# Import synthetic data\n",
    "df <- read_delim(\"usecaseA_synthetic.csv\", delim = \"|\", escape_double = FALSE, trim_ws = TRUE)\n",
    "\n",
    "# df <- df %>% mutate(age_group = factor(cut(age_nm, seq(0, 109, 5), right = FALSE,\n",
    "#                         labels = c(\"0-4\", \"5-9\", \"10-14\", \"15-19\", \"20-24\",\n",
    "#                                    \"25-29\", \"30-34\", \"35-39\", \"40-44\", \"45-49\",\n",
    "#                                    \"50-54\", \"55-59\", \"60-64\", \"65-69\", \"70-74\",\n",
    "#                                    \"75-79\", \"80-84\", \"85-89\", \"90-94\", \"95-99\",\n",
    "#                                    \"99+\"))))\n",
    "\n",
    "df <- df %>% mutate(age_group = cut(\n",
    "pmin(age_nm, age_max-1),\n",
    "seq(0, age_max, age_diff),\n",
    "right = FALSE,\n",
    "labels = c(\n",
    "paste(seq(0,age_max-2*age_diff,age_diff), seq(age_diff-1,age_max-age_diff-1,age_diff), sep=\"-\"),\n",
    "paste(age_max-age_diff, \"+\", sep=\"\")\n",
    ")\n",
    "))\n",
    "\n"
   ]
  },
  {
   "cell_type": "code",
   "execution_count": null,
   "metadata": {},
   "outputs": [],
   "source": [
    "head(df)"
   ]
  },
  {
   "cell_type": "code",
   "execution_count": null,
   "metadata": {},
   "outputs": [],
   "source": [
    "cohort1 <- df %>% filter(!is.na(date_event_heart) | !is.na(date_event_stroke) )\n",
    "cohort2 <- df %>% filter(!is.na(ttm_type_cd) , (!is.na(surgery_elective_hip) | !is.na(surgery_elective_knee)))\n",
    "cohort3 <- df %>% filter(!is.na(date_event) , !is.na(acute_event_trauma))"
   ]
  },
  {
   "cell_type": "code",
   "execution_count": null,
   "metadata": {},
   "outputs": [],
   "source": [
    "head(cohort1)"
   ]
  },
  {
   "cell_type": "code",
   "execution_count": null,
   "metadata": {},
   "outputs": [],
   "source": [
    "year_months <- data.frame(\n",
    "month=rep(1:12, year_to-year_from+1),\n",
    "year= rep(year_from:year_to,each=12))"
   ]
  },
  {
   "cell_type": "code",
   "execution_count": null,
   "metadata": {},
   "outputs": [],
   "source": [
    "stroke_per_month_year <- cohort1 %>%\n",
    "mutate(month = month(date_event_stroke), year = year(date_event_stroke)) %>% dplyr::select(year,month,patient_id) %>%\n",
    "aggregate(.,by=list(.$year, .$month), FUN=length) %>%\n",
    "transmute(\"year\" = Group.1, \"month\" = Group.2, total_stroke = patient_id)\n",
    "\n",
    "stroke_per_month_year <- merge(year_months, stroke_per_month_year, by=c(\"year\",\"month\"),all.x = TRUE)\n",
    "stroke_per_month_year[is.na(stroke_per_month_year)] <- 0"
   ]
  },
  {
   "cell_type": "code",
   "execution_count": null,
   "metadata": {},
   "outputs": [],
   "source": [
    "heart_per_month_year <- cohort1 %>%\n",
    "mutate(month = month(date_event_heart), year = year(date_event_heart)) %>% dplyr::select(year,month,patient_id) %>%\n",
    "aggregate(.,by=list(.$year, .$month), FUN=length) %>%\n",
    "transmute(\"year\" = Group.1, \"month\" = Group.2, total_heart_attack = patient_id)\n",
    "\n",
    "heart_per_month_year <- merge(year_months, heart_per_month_year, by=c(\"year\",\"month\"),all.x = TRUE)\n",
    "heart_per_month_year[is.na(heart_per_month_year)] <- 0"
   ]
  },
  {
   "cell_type": "code",
   "execution_count": null,
   "metadata": {},
   "outputs": [],
   "source": [
    "knee_per_month_year <- cohort2 %>% filter(!is.na(surgery_elective_knee)) %>%\n",
    "mutate(month = month(date_event), year = year(date_event)) %>% dplyr::select(year,month,patient_id) %>%\n",
    "aggregate(.,by=list(.$year, .$month), FUN=length) %>%\n",
    "transmute(\"year\" = Group.1, \"month\" = Group.2, total_knee_replacement = patient_id)\n",
    "\n",
    "knee_per_month_year <- merge(year_months, knee_per_month_year, by=c(\"year\",\"month\"),all.x = TRUE)\n",
    "knee_per_month_year[is.na(knee_per_month_year)] <- 0"
   ]
  },
  {
   "cell_type": "code",
   "execution_count": null,
   "metadata": {},
   "outputs": [],
   "source": [
    "hip_per_month_year <- cohort2 %>% filter(!is.na(surgery_elective_hip)) %>%\n",
    "mutate(month = month(date_event), year = year(date_event)) %>% dplyr::select(year,month,patient_id) %>%\n",
    "aggregate(.,by=list(.$year, .$month), FUN=length) %>%\n",
    "transmute(\"year\" = Group.1, \"month\" = Group.2, total_hip_replacement = patient_id)\n",
    "\n",
    "hip_per_month_year <- merge(year_months, hip_per_month_year, by=c(\"year\",\"month\"),all.x = TRUE)\n",
    "hip_per_month_year[is.na(hip_per_month_year)] <- 0"
   ]
  },
  {
   "cell_type": "code",
   "execution_count": null,
   "metadata": {},
   "outputs": [],
   "source": [
    "acute_trauma_per_month_year <- cohort3 %>%\n",
    "mutate(month = month(date_event), year = year(date_event)) %>% dplyr::select(year,month,patient_id) %>%\n",
    "aggregate(.,by=list(.$year, .$month), FUN=length) %>%\n",
    "transmute(\"year\" = Group.1, \"month\" = Group.2, total_acute_trauma = patient_id)\n",
    "\n",
    "acute_trauma_per_month_year <- merge(year_months, acute_trauma_per_month_year, by=c(\"year\",\"month\"),all.x = TRUE)\n",
    "acute_trauma_per_month_year[is.na(acute_trauma_per_month_year)] <- 0"
   ]
  },
  {
   "cell_type": "code",
   "execution_count": null,
   "metadata": {},
   "outputs": [],
   "source": [
    "summary_table <- merge(stroke_per_month_year, heart_per_month_year, by=c(\"year\",\"month\"),all.x = TRUE)\n",
    "summary_table <- merge(summary_table, knee_per_month_year, by=c(\"year\",\"month\"),all.x = TRUE)\n",
    "summary_table <- merge(summary_table, hip_per_month_year, by=c(\"year\",\"month\"),all.x = TRUE)\n",
    "summary_table <- merge(summary_table, acute_trauma_per_month_year, by=c(\"year\",\"month\"),all.x = TRUE)\n",
    "summary_table[is.na(summary_table)] <- 0"
   ]
  },
  {
   "cell_type": "code",
   "execution_count": null,
   "metadata": {},
   "outputs": [],
   "source": [
    "dataset1 <-  cohort1 %>% filter(!is.na(date_event_stroke)) %>%\n",
    "mutate(month = month(date_event_stroke), year = year(date_event_stroke)) %>%\n",
    "count(year,month,age_group,sex,socecon_lvl_cd) %>% rename(total_stroke = n )"
   ]
  },
  {
   "cell_type": "code",
   "execution_count": null,
   "metadata": {},
   "outputs": [],
   "source": [
    "dataset2 <- cohort1 %>% filter(!is.na(date_event_heart)) %>%\n",
    "mutate(month = month(date_event_heart), year = year(date_event_heart)) %>%\n",
    "count(year,month,age_group,sex,socecon_lvl_cd) %>% rename(total_heart_attack = n )"
   ]
  },
  {
   "cell_type": "code",
   "execution_count": null,
   "metadata": {},
   "outputs": [],
   "source": [
    "dataset3 <-  cohort2 %>% filter(!is.na(surgery_elective_knee)) %>%\n",
    "mutate(month = month(date_event), year = year(date_event)) %>%\n",
    "count(year,month,age_group,sex,socecon_lvl_cd) %>% rename(total_knee_replacement = n )"
   ]
  },
  {
   "cell_type": "code",
   "execution_count": null,
   "metadata": {},
   "outputs": [],
   "source": [
    "dataset4 <- cohort2 %>% filter(!is.na(surgery_elective_hip)) %>%\n",
    "mutate(month = month(date_event), year = year(date_event)) %>%\n",
    "count(year,month,age_group,sex,socecon_lvl_cd) %>% rename(total_hip_replacement = n )"
   ]
  },
  {
   "cell_type": "code",
   "execution_count": null,
   "metadata": {},
   "outputs": [],
   "source": [
    "dataset5 <-  cohort3 %>%\n",
    "mutate(month = month(date_event), year = year(date_event)) %>%\n",
    "count(year,month,age_group,sex,socecon_lvl_cd) %>% rename(total_acute_trauma = n )"
   ]
  },
  {
   "cell_type": "code",
   "execution_count": null,
   "metadata": {},
   "outputs": [],
   "source": [
    "summary_table_aggregated <- merge(x=dataset1,y=dataset2,by=c(\"year\",\"month\",\"age_group\",\"sex\",\"socecon_lvl_cd\"),all=TRUE)\n",
    "summary_table_aggregated <- merge(x=summary_table_aggregated,y=dataset3,by=c(\"year\",\"month\",\"age_group\",\"sex\",\"socecon_lvl_cd\"),all=TRUE)\n",
    "summary_table_aggregated <- merge(x=summary_table_aggregated,y=dataset4,by=c(\"year\",\"month\",\"age_group\",\"sex\",\"socecon_lvl_cd\"),all=TRUE)\n",
    "summary_table_aggregated <- merge(x=summary_table_aggregated,y=dataset5,by=c(\"year\",\"month\",\"age_group\",\"sex\",\"socecon_lvl_cd\"),all=TRUE)\n",
    "summary_table_aggregated[is.na(summary_table_aggregated)] <- 0"
   ]
  },
  {
   "cell_type": "code",
   "execution_count": null,
   "metadata": {},
   "outputs": [],
   "source": [
    "month_breaks <- c(1,2,3,4,5,6,7,8,9,10,11,12)\n",
    "month_names <-\n",
    "c(\"Jan\",\"Feb\",\"Mar\",\"Apr\",\"May\",\"Jun\",\"Jul\",\"Aug\",\"Sep\",\"Oct\",\"Nov\",\"Dec\")"
   ]
  },
  {
   "cell_type": "code",
   "execution_count": null,
   "metadata": {},
   "outputs": [],
   "source": [
    "#############################################################################\n",
    "#                             total_stroke                                    #\n",
    "#############################################################################\n",
    "p1<-ggplot(summary_table, aes(x=month, y=total_stroke, color = as.factor(year))) +\n",
    "geom_line(size = 1) +\n",
    "theme(panel.grid.major.x = element_line( color = \"grey\"),\n",
    "panel.grid.major.y = element_blank(), panel.border = element_blank(),\n",
    "panel.grid.minor = element_blank(), panel.background = element_blank(),\n",
    "axis.line = element_line(color = \"black\")) +\n",
    "theme(axis.text.x = element_text(angle = 90)) +\n",
    "geom_vline(xintercept = 3.76, color = \"red\", linetype = 2, size = 1) +\n",
    "labs(caption = paste0(\"n = \", sum(summary_table$total_stroke)),\n",
    "title = \"Stroke\",\n",
    "color = \"Year\") +\n",
    "ylab(paste0(\"Absolute number of cases (N=\", sum(summary_table$total_stroke),\")\")) +\n",
    "scale_x_continuous(name = \"Month\", breaks = month_breaks[1:12], labels = month_names, expand = c(0,0)) +\n",
    "theme(plot.subtitle = element_text(hjust = 1), plot.caption = element_text(hjust = 1))\n",
    "\n",
    "ggplotly(p1)"
   ]
  },
  {
   "cell_type": "code",
   "execution_count": null,
   "metadata": {},
   "outputs": [],
   "source": [
    "highest_socecon_lvl <- max(df$socecon_lvl_cd)\n",
    "highest_socecon_lvl <- `highest_socecon_lvl`"
   ]
  },
  {
   "cell_type": "code",
   "execution_count": null,
   "metadata": {},
   "outputs": [],
   "source": [
    "p1 <-\n",
    "cohort1 %>% filter(!is.na(date_event_stroke), date_event_stroke >= date_from, date_event_stroke <= date_to) %>%\n",
    "mutate(month = month(date_event_stroke), year = year(date_event_stroke)) %>%\n",
    "group_by(year) %>%\n",
    "count(socecon_lvl_cd) %>%\n",
    "pivot_wider(id_cols = year, names_from = socecon_lvl_cd, values_from = n) %>%\n",
    "mutate(ratio = `1` / highest_socecon_lvl) %>% filter(!is.na(ratio)) %>%\n",
    "ggplot(aes(x=year, y=ratio)) +\n",
    "geom_line(size=1) +\n",
    "geom_smooth(method = \"loess\") +\n",
    "theme(panel.grid.major.x = element_line( color = \"grey\"),\n",
    "panel.grid.major.y = element_blank(), panel.border = element_blank(),\n",
    "panel.grid.minor = element_blank(), panel.background = element_blank(),\n",
    "axis.line = element_line(color = \"black\")) +\n",
    "theme(axis.text.x = element_text(angle = 90)) +\n",
    "labs(title = \"Ratio of most to least deprived (stroke)\",\n",
    "color = \"Year\") +\n",
    "# scale_x_continuous(name = \"Year\", breaks = month_breaks[1:12], labels = month_names, expand = c(0,0)) +\n",
    "theme(plot.subtitle = element_text(hjust = 1), plot.caption = element_text(hjust = 1))\n",
    "\n",
    "ggplotly(p1)"
   ]
  },
  {
   "cell_type": "code",
   "execution_count": null,
   "metadata": {},
   "outputs": [],
   "source": [
    "p1<-ggplot(summary_table, aes(x=month, y=total_heart_attack, color = as.factor(year))) +\n",
    "geom_line(size = 1) +\n",
    "theme(panel.grid.major.x = element_line( color = \"grey\"),\n",
    "panel.grid.major.y = element_blank(), panel.border = element_blank(),\n",
    "panel.grid.minor = element_blank(), panel.background = element_blank(),\n",
    "axis.line = element_line(color = \"black\")) +\n",
    "theme(axis.text.x = element_text(angle = 90)) +\n",
    "geom_vline(xintercept = 3.76, color = \"red\", linetype = 2, size = 1) +\n",
    "labs(subtitle = paste0(\"n = \", sum(summary_table$total_heart_attack)),\n",
    "title = \"Heart attack\",\n",
    "color = \"Year\") +\n",
    "ylab(paste0(\"Absolute number of cases (N=\", sum(summary_table$total_heart_attack),\")\")) +\n",
    "scale_x_continuous(name = \"Month\", breaks = month_breaks[1:12], labels = month_names, expand = c(0,0)) +\n",
    "theme(plot.subtitle = element_text(hjust = 1), plot.caption = element_text(hjust = 1))\n",
    "\n",
    "ggplotly(p1)"
   ]
  },
  {
   "cell_type": "code",
   "execution_count": null,
   "metadata": {},
   "outputs": [],
   "source": [
    "p1 <-\n",
    "cohort1 %>% filter(!is.na(date_event_heart), date_event_heart >= date_from, date_event_heart <= date_to) %>%\n",
    "mutate(month = month(date_event_heart), year = year(date_event_heart)) %>%\n",
    "group_by(year) %>%\n",
    "count(socecon_lvl_cd) %>%\n",
    "pivot_wider(id_cols = year, names_from = socecon_lvl_cd, values_from = n) %>%\n",
    "mutate(ratio = `1` / highest_socecon_lvl) %>% filter(!is.na(ratio)) %>%\n",
    "ggplot(aes(x=year, y=ratio)) +\n",
    "geom_line(size=1) +\n",
    "geom_smooth(method = \"loess\") +\n",
    "theme(panel.grid.major.x = element_line( color = \"grey\"),\n",
    "panel.grid.major.y = element_blank(), panel.border = element_blank(),\n",
    "panel.grid.minor = element_blank(), panel.background = element_blank(),\n",
    "axis.line = element_line(color = \"black\")) +\n",
    "theme(axis.text.x = element_text(angle = 90)) +\n",
    "labs(title = \"Ratio of most to least deprived (heart attack)\",\n",
    "color = \"Year\") +\n",
    "# scale_x_continuous(name = \"Year\", breaks = month_breaks[1:12], labels = month_names, expand = c(0,0)) +\n",
    "theme(plot.subtitle = element_text(hjust = 1), plot.caption = element_text(hjust = 1))\n",
    "\n",
    "ggplotly(p1)\n"
   ]
  },
  {
   "cell_type": "code",
   "execution_count": null,
   "metadata": {},
   "outputs": [],
   "source": [
    "p1<-ggplot(summary_table, aes(x=month, y=total_knee_replacement, color = as.factor(year))) +\n",
    "geom_line(size = 1) +\n",
    "theme(panel.grid.major.x = element_line( color = \"grey\"),\n",
    "panel.grid.major.y = element_blank(), panel.border = element_blank(),\n",
    "panel.grid.minor = element_blank(), panel.background = element_blank(),\n",
    "axis.line = element_line(color = \"black\")) +\n",
    "theme(axis.text.x = element_text(angle = 90)) +\n",
    "geom_vline(xintercept = 3.76, color = \"red\", linetype = 2, size = 1) +\n",
    "labs(subtitle = paste0(\"n = \", sum(summary_table$total_knee_replacement)),\n",
    "title = \"Knee replacement\",\n",
    "color = \"Year\") +\n",
    "ylab(paste0(\"Absolute number of cases (N=\", sum(summary_table$total_knee_replacement),\")\")) +\n",
    "scale_x_continuous(name = \"Month\", breaks = month_breaks[1:12], labels = month_names, expand = c(0,0)) +\n",
    "theme(plot.subtitle = element_text(hjust = 1), plot.caption = element_text(hjust = 1))\n",
    "\n",
    "ggplotly(p1)"
   ]
  },
  {
   "cell_type": "code",
   "execution_count": null,
   "metadata": {},
   "outputs": [],
   "source": [
    "p1 <-\n",
    "cohort2 %>% filter(!is.na(surgery_elective_knee), date_event >= date_from, date_event <= date_to)  %>%\n",
    "mutate(month = month(date_event), year = year(date_event)) %>%\n",
    "group_by(year) %>%\n",
    "count(socecon_lvl_cd) %>%\n",
    "pivot_wider(id_cols = year, names_from = socecon_lvl_cd, values_from = n) %>%\n",
    "mutate(ratio = `1` / highest_socecon_lvl) %>% filter(!is.na(ratio)) %>%\n",
    "ggplot(aes(x=year, y=ratio)) +\n",
    "geom_line(size=1) +\n",
    "geom_smooth(method = \"loess\") +\n",
    "theme(panel.grid.major.x = element_line( color = \"grey\"),\n",
    "panel.grid.major.y = element_blank(), panel.border = element_blank(),\n",
    "panel.grid.minor = element_blank(), panel.background = element_blank(),\n",
    "axis.line = element_line(color = \"black\")) +\n",
    "theme(axis.text.x = element_text(angle = 90)) +\n",
    "labs(title = \"Ratio of most to least deprived (knee replacement)\",\n",
    "color = \"Year\") +\n",
    "# scale_x_continuous(name = \"Year\", breaks = month_breaks[1:12], labels = month_names, expand = c(0,0)) +\n",
    "theme(plot.subtitle = element_text(hjust = 1), plot.caption = element_text(hjust = 1))\n",
    "\n",
    "ggplotly(p1)\n"
   ]
  },
  {
   "cell_type": "code",
   "execution_count": null,
   "metadata": {},
   "outputs": [],
   "source": [
    "p1<-ggplot(summary_table, aes(x=month, y=total_hip_replacement, color = as.factor(year))) +\n",
    "geom_line(size = 1) +\n",
    "theme(panel.grid.major.x = element_line( color = \"grey\"),\n",
    "panel.grid.major.y = element_blank(), panel.border = element_blank(),\n",
    "panel.grid.minor = element_blank(), panel.background = element_blank(),\n",
    "axis.line = element_line(color = \"black\")) +\n",
    "theme(axis.text.x = element_text(angle = 90)) +\n",
    "geom_vline(xintercept = 3.76, color = \"red\", linetype = 2, size = 1) +\n",
    "labs(subtitle = paste0(\"n = \", sum(summary_table$total_hip_replacement)),\n",
    "title = \"Hip replacement\",\n",
    "color = \"Year\") +\n",
    "ylab(paste0(\"Absolute number of cases (N=\", sum(summary_table$total_hip_replacement),\")\")) +\n",
    "scale_x_continuous(name = \"Month\", breaks = month_breaks[1:12], labels = month_names, expand = c(0,0)) +\n",
    "theme(plot.subtitle = element_text(hjust = 1), plot.caption = element_text(hjust = 1))\n",
    "\n",
    "ggplotly(p1)"
   ]
  },
  {
   "cell_type": "code",
   "execution_count": null,
   "metadata": {},
   "outputs": [],
   "source": [
    "p1 <-\n",
    "cohort2 %>% filter(!is.na(surgery_elective_hip), date_event >= date_from, date_event <= date_to)  %>%\n",
    "mutate(month = month(date_event), year = year(date_event)) %>%\n",
    "group_by(year) %>%\n",
    "count(socecon_lvl_cd) %>%\n",
    "pivot_wider(id_cols = year, names_from = socecon_lvl_cd, values_from = n) %>%\n",
    "mutate(ratio = `1` / highest_socecon_lvl) %>% filter(!is.na(ratio)) %>%\n",
    "ggplot(aes(x=year, y=ratio)) +\n",
    "geom_line(size=1) +\n",
    "geom_smooth(method = \"loess\") +\n",
    "theme(panel.grid.major.x = element_line( color = \"grey\"),\n",
    "panel.grid.major.y = element_blank(), panel.border = element_blank(),\n",
    "panel.grid.minor = element_blank(), panel.background = element_blank(),\n",
    "axis.line = element_line(color = \"black\")) +\n",
    "theme(axis.text.x = element_text(angle = 90)) +\n",
    "labs(title = \"Ratio of most to least deprived (hip replacement)\",\n",
    "color = \"Year\") +\n",
    "# scale_x_continuous(name = \"Year\", breaks = month_breaks[1:12], labels = month_names, expand = c(0,0)) +\n",
    "theme(plot.subtitle = element_text(hjust = 1), plot.caption = element_text(hjust = 1))\n",
    "\n",
    "ggplotly(p1)\n",
    "\n"
   ]
  },
  {
   "cell_type": "code",
   "execution_count": null,
   "metadata": {},
   "outputs": [],
   "source": [
    "p1<-ggplot(summary_table, aes(x=month, y=total_acute_trauma, color = as.factor(year))) +\n",
    "geom_line(size = 1) +\n",
    "theme(panel.grid.major.x = element_line( color = \"grey\"),\n",
    "panel.grid.major.y = element_blank(), panel.border = element_blank(),\n",
    "panel.grid.minor = element_blank(), panel.background = element_blank(),\n",
    "axis.line = element_line(color = \"black\")) +\n",
    "theme(axis.text.x = element_text(angle = 90)) +\n",
    "geom_vline(xintercept = 3.76, color = \"red\", linetype = 2, size = 1) +\n",
    "labs(subtitle = paste0(\"n = \", sum(summary_table$total_acute_trauma)),\n",
    "title = \"Acute severe trauma\",\n",
    "color = \"Year\") +\n",
    "ylab(paste0(\"Absolute number of cases (N=\", sum(summary_table$total_acute_trauma),\")\")) +\n",
    "scale_x_continuous(name = \"Month\", breaks = month_breaks[1:12], labels = month_names, expand = c(0,0)) +\n",
    "theme(plot.subtitle = element_text(hjust = 1), plot.caption = element_text(hjust = 1))\n",
    "\n",
    "ggplotly(p1)"
   ]
  },
  {
   "cell_type": "code",
   "execution_count": null,
   "metadata": {},
   "outputs": [],
   "source": [
    "p1 <-\n",
    "cohort3 %>% filter(date_event >= date_from, date_event <= date_to) %>%\n",
    "mutate(month = month(date_event), year = year(date_event))  %>%\n",
    "group_by(year) %>%\n",
    "count(socecon_lvl_cd) %>%\n",
    "pivot_wider(id_cols = year, names_from = socecon_lvl_cd, values_from = n) %>%\n",
    "mutate(ratio = `1` / highest_socecon_lvl) %>% filter(!is.na(ratio)) %>%\n",
    "ggplot(aes(x=year, y=ratio)) +\n",
    "geom_line(size=1) +\n",
    "geom_smooth(method = \"loess\") +\n",
    "theme(panel.grid.major.x = element_line( color = \"grey\"),\n",
    "panel.grid.major.y = element_blank(), panel.border = element_blank(),\n",
    "panel.grid.minor = element_blank(), panel.background = element_blank(),\n",
    "axis.line = element_line(color = \"black\")) +\n",
    "theme(axis.text.x = element_text(angle = 90)) +\n",
    "labs(title = \"Ratio of most to least deprived (acute servere trauma)\",\n",
    "color = \"Year\") +\n",
    "# scale_x_continuous(name = \"Year\", breaks = month_breaks[1:12], labels = month_names, expand = c(0,0)) +\n",
    "theme(plot.subtitle = element_text(hjust = 1), plot.caption = element_text(hjust = 1))\n",
    "\n",
    "ggplotly(p1)\n"
   ]
  },
  {
   "cell_type": "markdown",
   "metadata": {},
   "source": [
    "### Summary table with total monthly cases by indicator ###"
   ]
  },
  {
   "cell_type": "code",
   "execution_count": null,
   "metadata": {},
   "outputs": [],
   "source": [
    "datatable(summary_table, class = 'cell-border stripe')"
   ]
  },
  {
   "cell_type": "code",
   "execution_count": null,
   "metadata": {},
   "outputs": [],
   "source": [
    "write.csv(summary_table_aggregated, file = \"aggregated_outputs.csv\", row.names = FALSE)"
   ]
  },
  {
   "cell_type": "code",
   "execution_count": null,
   "metadata": {},
   "outputs": [],
   "source": []
  }
 ],
 "metadata": {
  "kernelspec": {
   "display_name": "R",
   "language": "R",
   "name": "ir"
  },
  "language_info": {
   "codemirror_mode": "r",
   "file_extension": ".r",
   "mimetype": "text/x-r-source",
   "name": "R",
   "pygments_lexer": "r",
   "version": "3.6.3"
  }
 },
 "nbformat": 4,
 "nbformat_minor": 2
}
